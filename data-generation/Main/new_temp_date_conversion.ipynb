{
 "cells": [
  {
   "cell_type": "code",
   "execution_count": 310,
   "id": "2fd5b772",
   "metadata": {},
   "outputs": [],
   "source": [
    "import pandas as pd\n",
    "import numpy as np\n",
    "from faker import Faker\n",
    "import random\n",
    "from datetime import datetime, timedelta, time\n",
    "import json\n",
    "import os"
   ]
  },
  {
   "cell_type": "code",
   "execution_count": 311,
   "id": "49cdf7ba",
   "metadata": {},
   "outputs": [],
   "source": [
    "# file_name = 'data5/customer_address.csv'\n",
    "# file_name = 'data5/customer.csv'\n",
    "file_name = 'data6/delivery.csv'\n",
    "# file_name = 'data5/location.csv'\n",
    "file_name = 'data6/menu_items.csv'\n",
    "file_name = 'data6/order_items.csv'\n",
    "file_name = 'data6/orders.csv'\n",
    "file_name = 'data6/restaurant.csv'\n",
    "# file_name = 'data5/login_audit.csv'\n",
    "# file_name = 'temp/customer.csv'"
   ]
  },
  {
   "cell_type": "code",
   "execution_count": 312,
   "id": "4aa0989b",
   "metadata": {},
   "outputs": [],
   "source": [
    "df = pd.read_csv(file_name)"
   ]
  },
  {
   "cell_type": "code",
   "execution_count": 313,
   "id": "12662e80",
   "metadata": {},
   "outputs": [],
   "source": [
    "df['CreatedDate'] = pd.to_datetime(df['CreatedDate']).dt.floor('s')\n",
    "df['ModifiedDate'] = pd.to_datetime(df['ModifiedDate']).dt.floor('s')"
   ]
  },
  {
   "cell_type": "code",
   "execution_count": 314,
   "id": "b9c8d8b6",
   "metadata": {},
   "outputs": [],
   "source": [
    "# df['LastLogin'] = pd.to_datetime(df['LastLogin']).dt.floor('s')"
   ]
  },
  {
   "cell_type": "code",
   "execution_count": 315,
   "id": "ba350b32",
   "metadata": {},
   "outputs": [],
   "source": [
    "df.to_csv(file_name, index=False)"
   ]
  },
  {
   "cell_type": "code",
   "execution_count": null,
   "id": "f7be3c36",
   "metadata": {},
   "outputs": [],
   "source": []
  },
  {
   "cell_type": "code",
   "execution_count": 316,
   "id": "731f2142",
   "metadata": {},
   "outputs": [],
   "source": [
    "# file_name = 'data2/delivery_agent.json'\n",
    "# df = pd.read_json(file_name)"
   ]
  },
  {
   "cell_type": "code",
   "execution_count": 317,
   "id": "7a51df53",
   "metadata": {},
   "outputs": [],
   "source": [
    "# df"
   ]
  },
  {
   "cell_type": "code",
   "execution_count": 318,
   "id": "44b0649b",
   "metadata": {},
   "outputs": [],
   "source": [
    "# df['CreatedDate'] = pd.to_datetime(df['CreatedDate'], format='%m/%d/%Y %H:%M')\n",
    "# df['ModifiedDate'] = pd.to_datetime(df['ModifiedDate'], format='%m/%d/%Y %H:%M')"
   ]
  },
  {
   "cell_type": "code",
   "execution_count": 319,
   "id": "0d9f6bc9",
   "metadata": {},
   "outputs": [],
   "source": [
    "# df['CreatedDate'] = df['CreatedDate'].dt.strftime('%Y-%m-%d %H:%M:%S')\n",
    "# df['ModifiedDate'] = df['ModifiedDate'].dt.strftime('%Y-%m-%d %H:%M:%S')"
   ]
  },
  {
   "cell_type": "code",
   "execution_count": 320,
   "id": "b0c5e336",
   "metadata": {},
   "outputs": [],
   "source": [
    "# df"
   ]
  },
  {
   "cell_type": "code",
   "execution_count": 321,
   "id": "4e6376b3",
   "metadata": {},
   "outputs": [],
   "source": [
    "# df.to_json('data2/delivery_agent.json',orient='records', lines=False, indent=4)"
   ]
  },
  {
   "cell_type": "code",
   "execution_count": 322,
   "id": "5153e761",
   "metadata": {},
   "outputs": [],
   "source": [
    "# extra = pd.read_csv('data5/orders.csv')"
   ]
  },
  {
   "cell_type": "code",
   "execution_count": 323,
   "id": "24ad43f0",
   "metadata": {},
   "outputs": [],
   "source": [
    "# df_2020 = extra[pd.to_datetime(extra['CreatedDate']).dt.year == 2020]"
   ]
  },
  {
   "cell_type": "code",
   "execution_count": 324,
   "id": "f544468b",
   "metadata": {},
   "outputs": [],
   "source": [
    "# df_2020\n",
    "# extra"
   ]
  }
 ],
 "metadata": {
  "kernelspec": {
   "display_name": "base",
   "language": "python",
   "name": "python3"
  },
  "language_info": {
   "codemirror_mode": {
    "name": "ipython",
    "version": 3
   },
   "file_extension": ".py",
   "mimetype": "text/x-python",
   "name": "python",
   "nbconvert_exporter": "python",
   "pygments_lexer": "ipython3",
   "version": "3.12.7"
  }
 },
 "nbformat": 4,
 "nbformat_minor": 5
}
