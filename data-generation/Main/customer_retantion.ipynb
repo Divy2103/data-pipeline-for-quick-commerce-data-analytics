{
 "cells": [
  {
   "cell_type": "code",
   "execution_count": null,
   "id": "d44a2f08",
   "metadata": {},
   "outputs": [],
   "source": [
    "import pandas as pd\n",
    "from datetime import datetime, timedelta"
   ]
  },
  {
   "cell_type": "code",
   "execution_count": 13,
   "id": "178674c7",
   "metadata": {},
   "outputs": [],
   "source": [
    "order_df = pd.read_csv('data1/orders.csv')"
   ]
  },
  {
   "cell_type": "code",
   "execution_count": null,
   "id": "759259c8",
   "metadata": {},
   "outputs": [],
   "source": [
    "order_df"
   ]
  },
  {
   "cell_type": "code",
   "execution_count": 15,
   "id": "e894c745",
   "metadata": {},
   "outputs": [],
   "source": [
    "latest_order_date = order_df['OrderDate'].max()"
   ]
  },
  {
   "cell_type": "code",
   "execution_count": null,
   "id": "922bf6a2",
   "metadata": {},
   "outputs": [],
   "source": [
    "latest_order_date"
   ]
  },
  {
   "cell_type": "code",
   "execution_count": 17,
   "id": "8ae4532e",
   "metadata": {},
   "outputs": [],
   "source": [
    "today = pd.Timestamp.today()\n",
    "six_months_ago = pd.to_datetime(latest_order_date) - pd.DateOffset(months=6)\n",
    "twelve_months_ago = pd.to_datetime(latest_order_date) - pd.DateOffset(months=12)\n",
    "\n",
    "# Filter rows within the date range\n",
    "filtered_df = order_df[\n",
    "    (pd.to_datetime(order_df['OrderDate']) >= twelve_months_ago) &\n",
    "    (pd.to_datetime(order_df['OrderDate']) < six_months_ago)\n",
    "]"
   ]
  },
  {
   "cell_type": "code",
   "execution_count": null,
   "id": "5aba1ce0",
   "metadata": {},
   "outputs": [],
   "source": [
    "filtered_df"
   ]
  },
  {
   "cell_type": "code",
   "execution_count": 19,
   "id": "1cfa33cc",
   "metadata": {},
   "outputs": [],
   "source": [
    "unique_customers = filtered_df['CustomerID'].unique().tolist()\n",
    "# Get the unique customer IDs"
   ]
  },
  {
   "cell_type": "code",
   "execution_count": null,
   "id": "1cefae5a",
   "metadata": {},
   "outputs": [],
   "source": [
    "unique_customers"
   ]
  },
  {
   "cell_type": "code",
   "execution_count": 21,
   "id": "a0be634c",
   "metadata": {},
   "outputs": [],
   "source": [
    "customer_df = pd.read_csv('data1/customer.csv')"
   ]
  },
  {
   "cell_type": "code",
   "execution_count": null,
   "id": "7ee16ad4",
   "metadata": {},
   "outputs": [],
   "source": [
    "customer_df = customer_df[customer_df['CustomerID'].isin(unique_customers)].sample(frac=0.3)\n",
    "customer_df"
   ]
  },
  {
   "cell_type": "code",
   "execution_count": 24,
   "id": "33a96095",
   "metadata": {},
   "outputs": [],
   "source": [
    "import os"
   ]
  },
  {
   "cell_type": "code",
   "execution_count": 25,
   "id": "9db71604",
   "metadata": {},
   "outputs": [],
   "source": [
    "if not os.path.exists('temp'):\n",
    "    os.makedirs('temp')"
   ]
  },
  {
   "cell_type": "code",
   "execution_count": 27,
   "id": "d5b48dac",
   "metadata": {},
   "outputs": [],
   "source": [
    "customer_df.to_csv('temp/customer.csv', index=False)"
   ]
  }
 ],
 "metadata": {
  "kernelspec": {
   "display_name": "Python 3",
   "language": "python",
   "name": "python3"
  },
  "language_info": {
   "codemirror_mode": {
    "name": "ipython",
    "version": 3
   },
   "file_extension": ".py",
   "mimetype": "text/x-python",
   "name": "python",
   "nbconvert_exporter": "python",
   "pygments_lexer": "ipython3",
   "version": "3.12.9"
  }
 },
 "nbformat": 4,
 "nbformat_minor": 5
}
